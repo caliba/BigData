{
 "cells": [
  {
   "cell_type": "code",
   "execution_count": 97,
   "id": "ffb90a1e",
   "metadata": {},
   "outputs": [],
   "source": [
    "import requests\n",
    "from bs4 import BeautifulSoup\n",
    "import json\n",
    "import os.path\n",
    "import numpy as np\n",
    "import pandas as pd\n",
    "# parameter : seasonType &  season\n",
    "url1 = 'https://china.nba.cn/stats2/league/playerstats.json?conference=All&country=All&individual=All&locale=zh_CN&pageIndex=0&position=All&qualified=false&season='\n",
    "url2 = '&seasonType=2&split=All+Team&statType=points&team=All&total=perGame'\n",
    "#\n",
    "def getHTMLText(url, timeout=30):\n",
    "    try:\n",
    "        r = requests.get(url, timeout=30)  #\n",
    "        r.raise_for_status()\n",
    "        r.encoding = r.apparent_encoding\n",
    "        return r.text\n",
    "    except:\n",
    "        return 'error'"
   ]
  },
  {
   "cell_type": "code",
   "execution_count": 98,
   "id": "e1be9871",
   "metadata": {},
   "outputs": [],
   "source": [
    "#列\n",
    "pointsPg_list=[]\n",
    "assistsPg_list=[]\n",
    "rebsPg_list=[]\n",
    "name_list=[]\n",
    "data1=[]\n",
    "tppct=[]\n",
    "ftpct=[]\n",
    "fgpct=[]\n",
    "stealsPg_list=[]\n",
    "blocksPg_list=[]\n",
    "offRebsPg_list=[]\n",
    "defRebsPg_list=[]\n",
    "rank=[]\n",
    "team_list = []\n",
    "posi = []\n",
    "\n",
    "b_s = 2010 # begin_season\n",
    "seanson_count = 4 #计算多少个赛季\n",
    "for j in range(seanson_count):\n",
    "    url = url1+str(b_s)+url2\n",
    "    html=getHTMLText(url)\n",
    "    data=json.loads(html)\n",
    "    a=data['payload']['players']\n",
    "    data1.append(name_list)\n",
    "    data1.append(assistsPg_list)\n",
    "    b=1\n",
    "    b_s = b_s+1\n",
    "    for i in a:   \n",
    "        rank.append(b)\n",
    "        team_list.append(i['teamProfile']['name'])\n",
    "        name_list.append(i['playerProfile']['displayName'])\n",
    "        posi.append(i['playerProfile']['position'])\n",
    "        pointsPg_list.append(i['statAverage'][ 'pointsPg'])\n",
    "        rebsPg_list.append(i['statAverage'][ 'rebsPg'])\n",
    "        assistsPg_list.append(i['statAverage'][ 'assistsPg'])\n",
    "        stealsPg_list.append(i['statAverage'][ 'stealsPg'])\n",
    "        blocksPg_list.append(i['statAverage'][ 'blocksPg'])\n",
    "        offRebsPg_list.append(i['statAverage'][ 'offRebsPg'])\n",
    "        defRebsPg_list.append(i['statAverage'][ 'defRebsPg'])\n",
    "        tppct.append(i['statAverage']['tppct'])\n",
    "        ftpct.append(i['statAverage']['ftpct'])\n",
    "        fgpct.append(i['statAverage']['fgpct'])\n",
    "        b=b+1\n",
    "        \n",
    "list_1=['排名']\n",
    "\n"
   ]
  },
  {
   "cell_type": "code",
   "execution_count": 99,
   "id": "199bef17",
   "metadata": {},
   "outputs": [],
   "source": [
    "df=pd.DataFrame(columns=list_1)\n",
    "df['排名']=rank\n",
    "df['NAME']=name_list\n",
    "df['球队']=team_list\n",
    "df['位置'] = posi\n",
    "df['场均得分']=pointsPg_list\n",
    "df['场均篮板']=rebsPg_list\n",
    "df['场均助攻']=assistsPg_list\n",
    "df['投篮命中率']=fgpct\n",
    "df['三分命中率']=tppct\n",
    "df['罚球命中率']=ftpct\n",
    "df['进攻效率']=offRebsPg_list\n",
    "df['防守效率']=defRebsPg_list\n",
    "df['场均抢断']=stealsPg_list\n",
    "df['场均盖帽']=blocksPg_list\n",
    "df=df.drop_duplicates()\n",
    "# df"
   ]
  },
  {
   "cell_type": "code",
   "execution_count": 100,
   "id": "4d7d6a7f",
   "metadata": {},
   "outputs": [],
   "source": [
    "# 文件保存\n",
    "file_save = 'tmp'\n",
    "if os.path.exists(file_save):\n",
    "    os.remove(file_save)\n",
    "df.to_csv('tmp',index=False,encoding='utf_8_sig')"
   ]
  },
  {
   "cell_type": "code",
   "execution_count": null,
   "id": "f11f753f",
   "metadata": {},
   "outputs": [],
   "source": []
  },
  {
   "cell_type": "code",
   "execution_count": null,
   "id": "7daac152",
   "metadata": {},
   "outputs": [],
   "source": []
  }
 ],
 "metadata": {
  "kernelspec": {
   "display_name": "Python 3 (ipykernel)",
   "language": "python",
   "name": "python3"
  },
  "language_info": {
   "codemirror_mode": {
    "name": "ipython",
    "version": 3
   },
   "file_extension": ".py",
   "mimetype": "text/x-python",
   "name": "python",
   "nbconvert_exporter": "python",
   "pygments_lexer": "ipython3",
   "version": "3.9.13"
  }
 },
 "nbformat": 4,
 "nbformat_minor": 5
}
